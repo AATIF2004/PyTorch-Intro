{
  "cells": [
    {
      "cell_type": "code",
      "execution_count": 1,
      "metadata": {
        "id": "Qx_jijKzbHbW"
      },
      "outputs": [],
      "source": [
        "import torch\n",
        "import torch.nn as nn\n",
        "import numpy as np\n",
        "\n"
      ]
    },
    {
      "cell_type": "code",
      "execution_count": 2,
      "metadata": {
        "id": "I99ghZ6EbHbY"
      },
      "outputs": [],
      "source": [
        "class AdaptiveAvgPool2dCustom(nn.Module):\n",
        "    def __init__(self, output_size):\n",
        "        super(AdaptiveAvgPool2dCustom, self).__init__()\n",
        "        self.output_size = np.array(output_size)\n",
        "\n",
        "    def forward(self, x: torch.Tensor):\n",
        "        stride_size = np.floor(np.array(x.shape[-2:]) / self.output_size).astype(np.int32)\n",
        "        kernel_size = np.array(x.shape[-2:]) - (self.output_size - 1) * stride_size\n",
        "        avg = nn.AvgPool2d(kernel_size=list(kernel_size), stride=list(stride_size))\n",
        "        x = avg(x)\n",
        "        return x"
      ]
    },
    {
      "cell_type": "code",
      "execution_count": 3,
      "metadata": {
        "id": "NDg2QmhGbHbZ"
      },
      "outputs": [],
      "source": [
        "\n",
        "class h_sigmoid(nn.Module):\n",
        "    def __init__(self, inplace=True):\n",
        "        super(h_sigmoid, self).__init__()\n",
        "        self.relu = nn.ReLU6(inplace=inplace)\n",
        "\n",
        "    def forward(self, x):\n",
        "        return self.relu(x + 3) / 6\n",
        "class h_swish(nn.Module):\n",
        "    def __init__(self, inplace=True):\n",
        "        super(h_swish, self).__init__()\n",
        "        self.sigmoid = h_sigmoid(inplace=inplace)\n",
        "\n",
        "    def forward(self, x):\n",
        "        return x * self.sigmoid(x)"
      ]
    },
    {
      "cell_type": "code",
      "execution_count": 4,
      "metadata": {
        "id": "b39gm4QObHba"
      },
      "outputs": [],
      "source": [
        "class CoordAtt(nn.Module):\n",
        "    def __init__(self, inp, reduction=32):\n",
        "        super(CoordAtt, self).__init__()\n",
        "        self.pool_h = nn.AdaptiveAvgPool2d((None, 1))\n",
        "        self.pool_w = nn.AdaptiveAvgPool2d((1, None))\n",
        "\n",
        "        mip = max(8, inp // reduction)\n",
        "\n",
        "        self.conv1 = nn.Conv2d(inp, mip, kernel_size=1, stride=1, padding=0)\n",
        "        self.bn1 = nn.BatchNorm2d(mip)\n",
        "        self.act = h_swish()\n",
        "\n",
        "        self.conv_h = nn.Conv2d(mip, inp, kernel_size=1, stride=1, padding=0)\n",
        "        self.conv_w = nn.Conv2d(mip, inp, kernel_size=1, stride=1, padding=0)\n",
        "\n",
        "    def forward(self, x):\n",
        "        identity = x\n",
        "\n",
        "        n, c, h, w = x.size()\n",
        "        x_h = self.pool_h(x)\n",
        "        x_w = self.pool_w(x).permute(0, 1, 3, 2)\n",
        "\n",
        "        y = torch.cat([x_h, x_w], dim=2)\n",
        "        y = self.conv1(y)\n",
        "        y = self.bn1(y)\n",
        "        y = self.act(y)\n",
        "\n",
        "        x_h, x_w = torch.split(y, [h, w], dim=2)\n",
        "        x_w = x_w.permute(0, 1, 3, 2)\n",
        "\n",
        "        a_h = self.conv_h(x_h).sigmoid()\n",
        "        a_w = self.conv_w(x_w).sigmoid()\n",
        "\n",
        "        out = identity * a_w * a_h\n",
        "\n",
        "        return out"
      ]
    },
    {
      "cell_type": "code",
      "execution_count": null,
      "metadata": {
        "id": "0_m_gBF3bHba"
      },
      "outputs": [],
      "source": [
        "class Model(nn.Module):\n",
        "    def __init__(self):\n",
        "        super(Model, self).__init__()\n",
        "        self.adp1 = nn.AdaptiveAvgPool2d((56, 1))\n",
        "        self.adp2 = nn.AdaptiveAvgPool2d((1, 56))\n",
        "        self.cv1 = nn.Conv2d(3, 64, kernel_size=1, stride=1)\n",
        "\n",
        "    def forward(self, x):\n",
        "        out = self.cv1(x)\n",
        "        x1 = self.adp1(out)\n",
        "        x2 = self.adp2(out).permute(0, 1, 3, 2)\n",
        "\n",
        "        return torch.cat([x1, x2], dim=2)\n",
        "\n"
      ]
    },
    {
      "cell_type": "code",
      "execution_count": null,
      "metadata": {
        "id": "iQaox9M-bHbb"
      },
      "outputs": [],
      "source": [
        "model = CoordAtt(3)\n",
        "model = Model()\n",
        "\n"
      ]
    },
    {
      "cell_type": "code",
      "execution_count": null,
      "metadata": {
        "id": "emAN7U2TbHbb"
      },
      "outputs": [],
      "source": [
        "x = torch.randn(1, 3, 224, 224)"
      ]
    },
    {
      "cell_type": "code",
      "execution_count": null,
      "metadata": {
        "id": "u1he31s5bHbb",
        "outputId": "d7017ec7-4e97-45f9-d661-8f122faf5018"
      },
      "outputs": [
        {
          "data": {
            "text/plain": [
              "torch.Size([1, 64, 112, 1])"
            ]
          },
          "execution_count": 17,
          "metadata": {},
          "output_type": "execute_result"
        }
      ],
      "source": [
        "y = model(x)\n",
        "y.size()"
      ]
    },
    {
      "cell_type": "code",
      "execution_count": null,
      "metadata": {
        "id": "kED93PE_bHbb"
      },
      "outputs": [],
      "source": [
        "torch.onnx.export(model, x, \"test_export.onnx\")"
      ]
    }
  ],
  "metadata": {
    "kernelspec": {
      "display_name": "visdrone_tensorrt",
      "language": "python",
      "name": "python3"
    },
    "language_info": {
      "codemirror_mode": {
        "name": "ipython",
        "version": 3
      },
      "file_extension": ".py",
      "mimetype": "text/x-python",
      "name": "python",
      "nbconvert_exporter": "python",
      "pygments_lexer": "ipython3",
      "version": "3.9.19"
    },
    "orig_nbformat": 4,
    "colab": {
      "provenance": []
    }
  },
  "nbformat": 4,
  "nbformat_minor": 0
}